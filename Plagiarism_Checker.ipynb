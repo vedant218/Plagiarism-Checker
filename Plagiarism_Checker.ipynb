{
  "cells": [
    {
      "cell_type": "code",
      "execution_count": 1,
      "metadata": {
        "colab": {
          "base_uri": "https://localhost:8080/"
        },
        "id": "RVWBSPovODDK",
        "outputId": "5a73580f-58f3-4a51-853c-95040582a494"
      },
      "outputs": [
        {
          "name": "stdout",
          "output_type": "stream",
          "text": [
            "Requirement already satisfied: pyspellchecker in c:\\users\\vedan\\appdata\\local\\programs\\python\\python39\\lib\\site-packages (0.7.2)\n"
          ]
        },
        {
          "name": "stderr",
          "output_type": "stream",
          "text": [
            "WARNING: You are using pip version 21.1.3; however, version 23.2.1 is available.\n",
            "You should consider upgrading via the 'c:\\users\\vedan\\appdata\\local\\programs\\python\\python39\\python.exe -m pip install --upgrade pip' command.\n"
          ]
        },
        {
          "name": "stdout",
          "output_type": "stream",
          "text": [
            "Requirement already satisfied: nltk in c:\\users\\vedan\\appdata\\local\\programs\\python\\python39\\lib\\site-packages (3.8.1)\n",
            "Requirement already satisfied: joblib in c:\\users\\vedan\\appdata\\local\\programs\\python\\python39\\lib\\site-packages (from nltk) (1.2.0)\n",
            "Requirement already satisfied: tqdm in c:\\users\\vedan\\appdata\\local\\programs\\python\\python39\\lib\\site-packages (from nltk) (4.66.1)\n",
            "Requirement already satisfied: click in c:\\users\\vedan\\appdata\\local\\programs\\python\\python39\\lib\\site-packages (from nltk) (8.1.2)\n",
            "Requirement already satisfied: regex>=2021.8.3 in c:\\users\\vedan\\appdata\\local\\programs\\python\\python39\\lib\\site-packages (from nltk) (2023.8.8)\n",
            "Requirement already satisfied: colorama in c:\\users\\vedan\\appdata\\local\\programs\\python\\python39\\lib\\site-packages (from click->nltk) (0.4.4)\n"
          ]
        },
        {
          "name": "stderr",
          "output_type": "stream",
          "text": [
            "WARNING: You are using pip version 21.1.3; however, version 23.2.1 is available.\n",
            "You should consider upgrading via the 'c:\\users\\vedan\\appdata\\local\\programs\\python\\python39\\python.exe -m pip install --upgrade pip' command.\n",
            "[nltk_data] Downloading package stopwords to\n",
            "[nltk_data]     C:\\Users\\vedan\\AppData\\Roaming\\nltk_data...\n",
            "[nltk_data]   Package stopwords is already up-to-date!\n",
            "[nltk_data] Downloading package punkt to\n",
            "[nltk_data]     C:\\Users\\vedan\\AppData\\Roaming\\nltk_data...\n",
            "[nltk_data]   Package punkt is already up-to-date!\n",
            "[nltk_data] Downloading package wordnet to\n",
            "[nltk_data]     C:\\Users\\vedan\\AppData\\Roaming\\nltk_data...\n",
            "[nltk_data]   Package wordnet is already up-to-date!\n",
            "[nltk_data] Downloading package omw-1.4 to\n",
            "[nltk_data]     C:\\Users\\vedan\\AppData\\Roaming\\nltk_data...\n",
            "[nltk_data]   Package omw-1.4 is already up-to-date!\n",
            "[nltk_data] Downloading package averaged_perceptron_tagger to\n",
            "[nltk_data]     C:\\Users\\vedan\\AppData\\Roaming\\nltk_data...\n",
            "[nltk_data]   Package averaged_perceptron_tagger is already up-to-\n",
            "[nltk_data]       date!\n"
          ]
        },
        {
          "data": {
            "text/plain": [
              "True"
            ]
          },
          "execution_count": 1,
          "metadata": {},
          "output_type": "execute_result"
        }
      ],
      "source": [
        "! pip install pyspellchecker\n",
        "! pip install nltk\n",
        "import nltk\n",
        "nltk.download('stopwords')\n",
        "nltk.download('punkt')\n",
        "nltk.download('wordnet')\n",
        "nltk.download('omw-1.4')\n",
        "nltk.download('averaged_perceptron_tagger')"
      ]
    },
    {
      "cell_type": "markdown",
      "metadata": {
        "id": "fvw5A76eQ5Iw"
      },
      "source": [
        "## importing libraries"
      ]
    },
    {
      "cell_type": "code",
      "execution_count": 2,
      "metadata": {
        "id": "vBlTLdj4S4s6"
      },
      "outputs": [],
      "source": [
        "import pandas as pd\n",
        "import re\n",
        "import unicodedata\n",
        "import string\n",
        "import nltk\n",
        "from nltk.corpus import stopwords\n",
        "from nltk.corpus import wordnet\n",
        "from spellchecker import SpellChecker\n",
        "from nltk.stem.porter import PorterStemmer\n",
        "from nltk.stem import WordNetLemmatizer\n",
        "from nltk.tokenize import word_tokenize"
      ]
    },
    {
      "cell_type": "markdown",
      "metadata": {
        "id": "Dk0yCXueRE8I"
      },
      "source": [
        "## preparing dataset"
      ]
    },
    {
      "cell_type": "code",
      "execution_count": 3,
      "metadata": {
        "colab": {
          "base_uri": "https://localhost:8080/",
          "height": 206
        },
        "id": "3R28sljOUkuA",
        "outputId": "994b1d1a-4b07-48e4-e7ab-249fe6ec1984"
      },
      "outputs": [
        {
          "data": {
            "text/html": [
              "<div>\n",
              "<style scoped>\n",
              "    .dataframe tbody tr th:only-of-type {\n",
              "        vertical-align: middle;\n",
              "    }\n",
              "\n",
              "    .dataframe tbody tr th {\n",
              "        vertical-align: top;\n",
              "    }\n",
              "\n",
              "    .dataframe thead th {\n",
              "        text-align: right;\n",
              "    }\n",
              "</style>\n",
              "<table border=\"1\" class=\"dataframe\">\n",
              "  <thead>\n",
              "    <tr style=\"text-align: right;\">\n",
              "      <th></th>\n",
              "      <th>title</th>\n",
              "      <th>article</th>\n",
              "    </tr>\n",
              "  </thead>\n",
              "  <tbody>\n",
              "    <tr>\n",
              "      <th>0</th>\n",
              "      <td>House Republicans Fret About Winning Their Hea...</td>\n",
              "      <td>WASHINGTON  —   Congressional Republicans have...</td>\n",
              "    </tr>\n",
              "    <tr>\n",
              "      <th>1</th>\n",
              "      <td>Rift Between Officers and Residents as Killing...</td>\n",
              "      <td>After the bullet shells get counted, the blood...</td>\n",
              "    </tr>\n",
              "    <tr>\n",
              "      <th>2</th>\n",
              "      <td>Tyrus Wong, ‘Bambi’ Artist Thwarted by Racial ...</td>\n",
              "      <td>When Walt Disney’s “Bambi” opened in 1942, cri...</td>\n",
              "    </tr>\n",
              "    <tr>\n",
              "      <th>3</th>\n",
              "      <td>Among Deaths in 2016, a Heavy Toll in Pop Musi...</td>\n",
              "      <td>Death may be the great equalizer, but it isn’t...</td>\n",
              "    </tr>\n",
              "    <tr>\n",
              "      <th>4</th>\n",
              "      <td>Kim Jong-un Says North Korea Is Preparing to T...</td>\n",
              "      <td>SEOUL, South Korea  —   North Korea’s leader, ...</td>\n",
              "    </tr>\n",
              "  </tbody>\n",
              "</table>\n",
              "</div>"
            ],
            "text/plain": [
              "                                               title  \\\n",
              "0  House Republicans Fret About Winning Their Hea...   \n",
              "1  Rift Between Officers and Residents as Killing...   \n",
              "2  Tyrus Wong, ‘Bambi’ Artist Thwarted by Racial ...   \n",
              "3  Among Deaths in 2016, a Heavy Toll in Pop Musi...   \n",
              "4  Kim Jong-un Says North Korea Is Preparing to T...   \n",
              "\n",
              "                                             article  \n",
              "0  WASHINGTON  —   Congressional Republicans have...  \n",
              "1  After the bullet shells get counted, the blood...  \n",
              "2  When Walt Disney’s “Bambi” opened in 1942, cri...  \n",
              "3  Death may be the great equalizer, but it isn’t...  \n",
              "4  SEOUL, South Korea  —   North Korea’s leader, ...  "
            ]
          },
          "execution_count": 3,
          "metadata": {},
          "output_type": "execute_result"
        }
      ],
      "source": [
        "df = pd.read_csv('articles1.csv', nrows=587)\n",
        "\n",
        "df=df[['title', 'content']]\n",
        "df.rename({'content':'article'}, axis=1, inplace=True)\n",
        "df.head()"
      ]
    },
    {
      "cell_type": "markdown",
      "metadata": {
        "id": "go7mimdGRLlg"
      },
      "source": [
        "## preprocessing data"
      ]
    },
    {
      "cell_type": "code",
      "execution_count": 4,
      "metadata": {
        "id": "mp3NcQh4pjNt"
      },
      "outputs": [],
      "source": [
        "from contractions import contractions_dict\n",
        "# helper functions\n",
        "\n",
        "def expand_contradiction(article):\n",
        "  contradiction_re = re.compile('|'.join(contractions_dict.keys()))       # making regex pattern\n",
        "  replace = lambda match: contractions_dict[match.group(0)]               # function to return matched value for contradiction\n",
        "  return contradiction_re.sub(replace, article)                           # replacing the contradictions\n",
        "\n",
        "\n",
        "def remove_punctuation(article):\n",
        "  punctuation = string.punctuation + '\\n' + '“' + '”' + '—' + '’'\n",
        "  return article.translate(str.maketrans('', '', punctuation))\n",
        "\n",
        "\n",
        "def remove_emoji(article):\n",
        "  emoji_pattern = re.compile(\"[\"\n",
        "                           u\"\\U0001F600-\\U0001F64F\"  # emoticons\n",
        "                           u\"\\U0001F300-\\U0001F5FF\"  # symbols & pictographs\n",
        "                           u\"\\U0001F680-\\U0001F6FF\"  # transport & map symbols\n",
        "                           u\"\\U0001F1E0-\\U0001F1FF\"  # flags (iOS)\n",
        "                           u\"\\U00002702-\\U000027B0\"\n",
        "                           u\"\\U000024C2-\\U0001F251\"\n",
        "                           \"]+\", flags=re.UNICODE)\n",
        "  return emoji_pattern.sub(r'', article)\n",
        "\n",
        "\n",
        "def correct_spellings(article):\n",
        "  spell = SpellChecker()\n",
        "  words = article.split()\n",
        "  corrected_words = []\n",
        "  misspelled_words = spell.unknown(words)\n",
        "\n",
        "  for word in words:\n",
        "    if word in misspelled_words:\n",
        "      corrected_words.append(str(spell.correction(word)))\n",
        "    else:\n",
        "      corrected_words.append(str(word))\n",
        "  return ' '.join(corrected_words)\n",
        "\n",
        "\n",
        "STOPWORDS  = set(stopwords.words('english'))"
      ]
    },
    {
      "cell_type": "code",
      "execution_count": 5,
      "metadata": {
        "id": "IOx6lJkcnbnj"
      },
      "outputs": [],
      "source": [
        "def preprocessing(articles):\n",
        "  articles = articles.str.lower()\n",
        "  articles = articles.apply(lambda x: re.sub('<.*?>', '', x))\n",
        "  articles=articles.apply(lambda x: re.sub(r'\\S+@\\S+', '', x))\n",
        "  articles=articles.apply(lambda x: re.sub(r'https?://\\S+ | www\\.\\S+', '', x))\n",
        "  articles = articles.apply(lambda x: expand_contradiction(x))\n",
        "  articles = articles.apply(remove_punctuation)\n",
        "  articles = articles.apply(remove_emoji)\n",
        "  articles = articles.apply(lambda x: re.sub(' +', ' ', x).strip())\n",
        "  articles = articles.apply(lambda x: ' '.join(word for word in x.split() if word not in STOPWORDS))\n",
        "  return articles\n",
        "\n",
        "\n",
        "# Stemming\n",
        "def stem_words(article):\n",
        "  stemmer = PorterStemmer()\n",
        "  token_words = word_tokenize(article)   \n",
        "  return ' '.join([stemmer.stem(word) for word in token_words])\n",
        "\n",
        "\n",
        "# Lemmatization\n",
        "def lemmatize_words(article):\n",
        "  lemmatizer = WordNetLemmatizer()\n",
        "  token_words = word_tokenize(article)\n",
        "  result = []\n",
        "  for word,pos in nltk.pos_tag(token_words):\n",
        "    pos = pos[0].lower()\n",
        "    pos = 'n' if pos not in list('arnv') else pos\n",
        "    result.append(lemmatizer.lemmatize(word, pos))\n",
        "  return ' '.join(result)"
      ]
    },
    {
      "cell_type": "code",
      "execution_count": 6,
      "metadata": {
        "colab": {
          "base_uri": "https://localhost:8080/",
          "height": 337
        },
        "id": "pggYhrO_A7Bi",
        "outputId": "5f761fe7-14c0-47e9-bdab-991c751429c0"
      },
      "outputs": [
        {
          "data": {
            "text/html": [
              "<div>\n",
              "<style scoped>\n",
              "    .dataframe tbody tr th:only-of-type {\n",
              "        vertical-align: middle;\n",
              "    }\n",
              "\n",
              "    .dataframe tbody tr th {\n",
              "        vertical-align: top;\n",
              "    }\n",
              "\n",
              "    .dataframe thead th {\n",
              "        text-align: right;\n",
              "    }\n",
              "</style>\n",
              "<table border=\"1\" class=\"dataframe\">\n",
              "  <thead>\n",
              "    <tr style=\"text-align: right;\">\n",
              "      <th></th>\n",
              "      <th>title</th>\n",
              "      <th>article</th>\n",
              "      <th>article_preprocessed</th>\n",
              "      <th>article_stemmed</th>\n",
              "      <th>article_lemmatized</th>\n",
              "    </tr>\n",
              "  </thead>\n",
              "  <tbody>\n",
              "    <tr>\n",
              "      <th>391</th>\n",
              "      <td>Angst Simmers in Washington as Trump Presidenc...</td>\n",
              "      <td>WASHINGTON  —   In the Virginia suburb of McLe...</td>\n",
              "      <td>washington virginia suburb mclean local diner ...</td>\n",
              "      <td>washington virginia suburb mclean local diner ...</td>\n",
              "      <td>washington virginia suburb mclean local diner ...</td>\n",
              "    </tr>\n",
              "    <tr>\n",
              "      <th>404</th>\n",
              "      <td>Republican Men Say It’s a Better Time to Be a ...</td>\n",
              "      <td>To be a woman in the United States is to feel ...</td>\n",
              "      <td>woman united states feel unequal despite great...</td>\n",
              "      <td>woman unit state feel unequ despit great strid...</td>\n",
              "      <td>woman unite state feel unequal despite great s...</td>\n",
              "    </tr>\n",
              "    <tr>\n",
              "      <th>559</th>\n",
              "      <td>The Right Way to Fall - The New York Times</td>\n",
              "      <td>Rare is the individual who hasn’t tripped over...</td>\n",
              "      <td>rare individual hasnt tripped pet uneven pavem...</td>\n",
              "      <td>rare individu hasnt trip pet uneven pavement t...</td>\n",
              "      <td>rare individual hasnt trip pet uneven pavement...</td>\n",
              "    </tr>\n",
              "    <tr>\n",
              "      <th>434</th>\n",
              "      <td>The Religious Speakers Taking Part in Trump’s ...</td>\n",
              "      <td>celebrities may be staying away from Donald ...</td>\n",
              "      <td>celebrities may staying away donald j trumps i...</td>\n",
              "      <td>celebr may stay away donald j trump inaugur fr...</td>\n",
              "      <td>celebrity may stay away donald j trump inaugur...</td>\n",
              "    </tr>\n",
              "    <tr>\n",
              "      <th>515</th>\n",
              "      <td>New England Patriots’ Owner, Still Sore at N.F...</td>\n",
              "      <td>FOXBOROUGH, Mass.  —   The N. F. L. likes port...</td>\n",
              "      <td>foxborough mass n f l likes portraying one big...</td>\n",
              "      <td>foxborough mass n f l like portray one big fam...</td>\n",
              "      <td>foxborough mass n f l like portray one big fam...</td>\n",
              "    </tr>\n",
              "  </tbody>\n",
              "</table>\n",
              "</div>"
            ],
            "text/plain": [
              "                                                 title  \\\n",
              "391  Angst Simmers in Washington as Trump Presidenc...   \n",
              "404  Republican Men Say It’s a Better Time to Be a ...   \n",
              "559         The Right Way to Fall - The New York Times   \n",
              "434  The Religious Speakers Taking Part in Trump’s ...   \n",
              "515  New England Patriots’ Owner, Still Sore at N.F...   \n",
              "\n",
              "                                               article  \\\n",
              "391  WASHINGTON  —   In the Virginia suburb of McLe...   \n",
              "404  To be a woman in the United States is to feel ...   \n",
              "559  Rare is the individual who hasn’t tripped over...   \n",
              "434    celebrities may be staying away from Donald ...   \n",
              "515  FOXBOROUGH, Mass.  —   The N. F. L. likes port...   \n",
              "\n",
              "                                  article_preprocessed  \\\n",
              "391  washington virginia suburb mclean local diner ...   \n",
              "404  woman united states feel unequal despite great...   \n",
              "559  rare individual hasnt tripped pet uneven pavem...   \n",
              "434  celebrities may staying away donald j trumps i...   \n",
              "515  foxborough mass n f l likes portraying one big...   \n",
              "\n",
              "                                       article_stemmed  \\\n",
              "391  washington virginia suburb mclean local diner ...   \n",
              "404  woman unit state feel unequ despit great strid...   \n",
              "559  rare individu hasnt trip pet uneven pavement t...   \n",
              "434  celebr may stay away donald j trump inaugur fr...   \n",
              "515  foxborough mass n f l like portray one big fam...   \n",
              "\n",
              "                                    article_lemmatized  \n",
              "391  washington virginia suburb mclean local diner ...  \n",
              "404  woman unite state feel unequal despite great s...  \n",
              "559  rare individual hasnt trip pet uneven pavement...  \n",
              "434  celebrity may stay away donald j trump inaugur...  \n",
              "515  foxborough mass n f l like portray one big fam...  "
            ]
          },
          "execution_count": 6,
          "metadata": {},
          "output_type": "execute_result"
        }
      ],
      "source": [
        "df['article_preprocessed'] = preprocessing(df.article)\n",
        "df['article_stemmed'] = df['article_preprocessed'].apply(stem_words)\n",
        "df['article_lemmatized'] = df['article_preprocessed'].apply(lemmatize_words)\n",
        "\n",
        "df.to_csv('articles.csv', index=False)\n",
        "df.sample(5)"
      ]
    },
    {
      "cell_type": "code",
      "execution_count": 7,
      "metadata": {
        "id": "ZQJdsRkMDptq"
      },
      "outputs": [],
      "source": [
        "articles = df['article_preprocessed']\n",
        "new_article = \"mother obliged travel false identities state affairs known among chinese immigrants paper son hope circumventing chinese exclusion act 1882 signed law president chester arthur act drastically curtailed number chinese people allowed enter country among earliest united states laws impose severe restrictions immigration 1906 unforeseen loophole opened form san francisco earthquake fire huge number municipal documents including birth immigration records destroyed many newly arrived chinese capitalized loss maintaining born san francisco fire united states citizens entitled bring relatives case gen yeo father paper sons posing relatives attuned deception united states immigration officials put chinese arrivals formidable inquisition ensure claimed questions came like gunfire direction village face many windows house house rice bin wide well deep trees village lakes shops name sponsoring relative interrogated separately answers match new arrival major mistake series smaller ones could mean deportation stand chance passing aspirants memorized rigorous dossiers known coaching papers ensuing interrogation hard enough adults gen yeo would undergo alone dec 30 1920 month sea wongs landed angel island immigration station elder mr wong traveling merchant named look get son look tai yow angel island considered ellis island west coast lisa see author gold mountain 1995 nonfiction chronicle family said interview 2016 however continued goal really different ellis island supposed welcoming angel island opened specifically keep chinese mr wongs father previously lived united states look get able clear immigration quickly new arrival gen yeo detained island nearly month child among immigrants held scared half death cried mr wong recalled tyrus documentary directed pamela tom premiered 2015 every day miserable miserable hated place jan 27 1921 presence interpreter stenographer young gen yeo posing look tai yow interrogated three inspectors father already questioned gen yeo well prepared answered without error sacramento joined father schoolteacher americanized tai yow tyrus known tyrus wong ever soon afterward father son separated elder mr wong moved los angeles seek work reasons lost time could give son tyrus lived sacramento boardinghouse attending elementary school two years later possibly tyrus traveled los angeles join father found work\""
      ]
    },
    {
      "cell_type": "code",
      "execution_count": 8,
      "metadata": {},
      "outputs": [
        {
          "name": "stdout",
          "output_type": "stream",
          "text": [
            "Requirement already satisfied: plotly in c:\\users\\vedan\\appdata\\local\\programs\\python\\python39\\lib\\site-packages (5.16.1)\n",
            "Requirement already satisfied: tenacity>=6.2.0 in c:\\users\\vedan\\appdata\\local\\programs\\python\\python39\\lib\\site-packages (from plotly) (8.2.3)\n",
            "Requirement already satisfied: packaging in c:\\users\\vedan\\appdata\\local\\programs\\python\\python39\\lib\\site-packages (from plotly) (21.3)\n",
            "Requirement already satisfied: pyparsing!=3.0.5,>=2.0.2 in c:\\users\\vedan\\appdata\\local\\programs\\python\\python39\\lib\\site-packages (from packaging->plotly) (3.0.7)\n"
          ]
        },
        {
          "name": "stderr",
          "output_type": "stream",
          "text": [
            "WARNING: You are using pip version 21.1.3; however, version 23.2.1 is available.\n",
            "You should consider upgrading via the 'c:\\users\\vedan\\appdata\\local\\programs\\python\\python39\\python.exe -m pip install --upgrade pip' command.\n"
          ]
        }
      ],
      "source": [
        "! pip install plotly\n"
      ]
    },
    {
      "cell_type": "markdown",
      "metadata": {
        "id": "SY4hRe0J4pyr"
      },
      "source": [
        "## Plagiarism Checker using N-Gram Model"
      ]
    },
    {
      "cell_type": "code",
      "execution_count": 9,
      "metadata": {
        "id": "TMlimNJNyF7Q"
      },
      "outputs": [],
      "source": [
        "import re\n",
        "from nltk.util import ngrams, pad_sequence, everygrams\n",
        "from nltk.tokenize import word_tokenize\n",
        "from nltk.lm import MLE, WittenBellInterpolated\n",
        "import numpy as np\n",
        "import plotly.graph_objects as go\n",
        "from scipy.ndimage import gaussian_filter\n",
        "\n",
        "def get_ngram_score(article, new_article = new_article):\n",
        "  train_text = article\n",
        "\n",
        "  # set ngram number\n",
        "  n = 4\n",
        "\n",
        "  # pad the text and tokenize\n",
        "  training_data = list(pad_sequence(word_tokenize(train_text), n, \n",
        "                                    pad_left=True, \n",
        "                                    left_pad_symbol=\"<s>\"))\n",
        "\n",
        "  # generate ngrams\n",
        "  ngrams = list(everygrams(training_data, max_len=n))\n",
        "  # print(\"Number of ngrams:\", len(ngrams))\n",
        "\n",
        "  # build ngram language models\n",
        "  model = WittenBellInterpolated(n)\n",
        "  model.fit([ngrams], vocabulary_text=training_data)\n",
        "  # print(model.vocab)\n",
        "\n",
        "\n",
        "  test_text = new_article\n",
        "\n",
        "  # Tokenize and pad the text\n",
        "  testing_data = list(pad_sequence(word_tokenize(test_text), n, \n",
        "                                  pad_left=True,\n",
        "                                  left_pad_symbol=\"<s>\"))\n",
        "  # print(\"Length of test data:\", len(testing_data))\n",
        "\n",
        "  # assign scores\n",
        "  scores = []\n",
        "  for i, item in enumerate(testing_data[n-1:]):\n",
        "      s = model.score(item, testing_data[i:i+n-1])\n",
        "      scores.append(s)\n",
        "\n",
        "  scores_np = np.array(scores)\n",
        "  # print(max(scores_np))\n",
        "  return scores_np"
      ]
    },
    {
      "cell_type": "code",
      "execution_count": 10,
      "metadata": {
        "colab": {
          "base_uri": "https://localhost:8080/"
        },
        "id": "mC7uroLrLmzM",
        "outputId": "918d5876-2a5e-40bb-d5ff-4784a2ee7d5e"
      },
      "outputs": [
        {
          "name": "stdout",
          "output_type": "stream",
          "text": [
            "Ngram score : 0.9723869532987398\n",
            "Plagiarised from article no :  2\n"
          ]
        }
      ],
      "source": [
        "max_ngram_score, article_idx = -1, -1\n",
        "\n",
        "for i in range(len(articles)):\n",
        "  score = max(get_ngram_score(articles[i]))\n",
        "\n",
        "  if score>max_ngram_score:\n",
        "    max_ngram_score = score\n",
        "    article_idx = i\n",
        "\n",
        "print(\"Ngram score :\", max_ngram_score)\n",
        "print(\"Plagiarised from article no : \", article_idx)"
      ]
    },
    {
      "cell_type": "code",
      "execution_count": 17,
      "metadata": {
        "colab": {
          "base_uri": "https://localhost:8080/",
          "height": 1000
        },
        "id": "hOnzyrA4Kgq2",
        "outputId": "76b164fa-3e3f-4700-f204-9e63a368ed5c"
      },
      "outputs": [
        {
          "name": "stdout",
          "output_type": "stream",
          "text": [
            "Number of ngrams: 5390\n",
            "<Vocabulary with cutoff=1 unk_label='<UNK>' and 835 items>\n",
            "Length of test data: 336\n",
            "Width, Height: 8 , 42\n"
          ]
        },
        {
          "data": {
            "application/vnd.plotly.v1+json": {
              "config": {
                "plotlyServerURL": "https://plot.ly"
              },
              "data": [
                {
                  "colorscale": [
                    [
                      0,
                      "rgb(255, 198, 196)"
                    ],
                    [
                      0.16666666666666666,
                      "rgb(244, 163, 168)"
                    ],
                    [
                      0.3333333333333333,
                      "rgb(227, 129, 145)"
                    ],
                    [
                      0.5,
                      "rgb(204, 96, 125)"
                    ],
                    [
                      0.6666666666666666,
                      "rgb(173, 70, 108)"
                    ],
                    [
                      0.8333333333333334,
                      "rgb(139, 48, 88)"
                    ],
                    [
                      1,
                      "rgb(103, 32, 68)"
                    ]
                  ],
                  "customdata": [
                    [
                      "mother",
                      "obliged",
                      "travel",
                      "false",
                      "identities",
                      "state",
                      "affairs",
                      "known"
                    ],
                    [
                      "among",
                      "chinese",
                      "immigrants",
                      "paper",
                      "son",
                      "hope",
                      "circumventing",
                      "chinese"
                    ],
                    [
                      "exclusion",
                      "act",
                      "1882",
                      "signed",
                      "law",
                      "president",
                      "chester",
                      "arthur"
                    ],
                    [
                      "act",
                      "drastically",
                      "curtailed",
                      "number",
                      "chinese",
                      "people",
                      "allowed",
                      "enter"
                    ],
                    [
                      "country",
                      "among",
                      "earliest",
                      "united",
                      "states",
                      "laws",
                      "impose",
                      "severe"
                    ],
                    [
                      "restrictions",
                      "immigration",
                      "1906",
                      "unforeseen",
                      "loophole",
                      "opened",
                      "form",
                      "san"
                    ],
                    [
                      "francisco",
                      "earthquake",
                      "fire",
                      "huge",
                      "number",
                      "municipal",
                      "documents",
                      "including"
                    ],
                    [
                      "birth",
                      "immigration",
                      "records",
                      "destroyed",
                      "many",
                      "newly",
                      "arrived",
                      "chinese"
                    ],
                    [
                      "capitalized",
                      "loss",
                      "maintaining",
                      "born",
                      "san",
                      "francisco",
                      "fire",
                      "united"
                    ],
                    [
                      "states",
                      "citizens",
                      "entitled",
                      "bring",
                      "relatives",
                      "case",
                      "gen",
                      "yeo"
                    ],
                    [
                      "father",
                      "paper",
                      "sons",
                      "posing",
                      "relatives",
                      "attuned",
                      "deception",
                      "united"
                    ],
                    [
                      "states",
                      "immigration",
                      "officials",
                      "put",
                      "chinese",
                      "arrivals",
                      "formidable",
                      "inquisition"
                    ],
                    [
                      "ensure",
                      "claimed",
                      "questions",
                      "came",
                      "like",
                      "gunfire",
                      "direction",
                      "village"
                    ],
                    [
                      "face",
                      "many",
                      "windows",
                      "house",
                      "house",
                      "rice",
                      "bin",
                      "wide"
                    ],
                    [
                      "well",
                      "deep",
                      "trees",
                      "village",
                      "lakes",
                      "shops",
                      "name",
                      "sponsoring"
                    ],
                    [
                      "relative",
                      "interrogated",
                      "separately",
                      "answers",
                      "match",
                      "new",
                      "arrival",
                      "major"
                    ],
                    [
                      "mistake",
                      "series",
                      "smaller",
                      "ones",
                      "could",
                      "mean",
                      "deportation",
                      "stand"
                    ],
                    [
                      "chance",
                      "passing",
                      "aspirants",
                      "memorized",
                      "rigorous",
                      "dossiers",
                      "known",
                      "coaching"
                    ],
                    [
                      "papers",
                      "ensuing",
                      "interrogation",
                      "hard",
                      "enough",
                      "adults",
                      "gen",
                      "yeo"
                    ],
                    [
                      "would",
                      "undergo",
                      "alone",
                      "dec",
                      "30",
                      "1920",
                      "month",
                      "sea"
                    ],
                    [
                      "wongs",
                      "landed",
                      "angel",
                      "island",
                      "immigration",
                      "station",
                      "elder",
                      "mr"
                    ],
                    [
                      "wong",
                      "traveling",
                      "merchant",
                      "named",
                      "look",
                      "get",
                      "son",
                      "look"
                    ],
                    [
                      "tai",
                      "yow",
                      "angel",
                      "island",
                      "considered",
                      "ellis",
                      "island",
                      "west"
                    ],
                    [
                      "coast",
                      "lisa",
                      "see",
                      "author",
                      "gold",
                      "mountain",
                      "1995",
                      "nonfiction"
                    ],
                    [
                      "chronicle",
                      "family",
                      "said",
                      "interview",
                      "2016",
                      "however",
                      "continued",
                      "goal"
                    ],
                    [
                      "really",
                      "different",
                      "ellis",
                      "island",
                      "supposed",
                      "welcoming",
                      "angel",
                      "island"
                    ],
                    [
                      "opened",
                      "specifically",
                      "keep",
                      "chinese",
                      "mr",
                      "wongs",
                      "father",
                      "previously"
                    ],
                    [
                      "lived",
                      "united",
                      "states",
                      "look",
                      "get",
                      "able",
                      "clear",
                      "immigration"
                    ],
                    [
                      "quickly",
                      "new",
                      "arrival",
                      "gen",
                      "yeo",
                      "detained",
                      "island",
                      "nearly"
                    ],
                    [
                      "month",
                      "child",
                      "among",
                      "immigrants",
                      "held",
                      "scared",
                      "half",
                      "death"
                    ],
                    [
                      "cried",
                      "mr",
                      "wong",
                      "recalled",
                      "tyrus",
                      "documentary",
                      "directed",
                      "pamela"
                    ],
                    [
                      "tom",
                      "premiered",
                      "2015",
                      "every",
                      "day",
                      "miserable",
                      "miserable",
                      "hated"
                    ],
                    [
                      "place",
                      "jan",
                      "27",
                      "1921",
                      "presence",
                      "interpreter",
                      "stenographer",
                      "young"
                    ],
                    [
                      "gen",
                      "yeo",
                      "posing",
                      "look",
                      "tai",
                      "yow",
                      "interrogated",
                      "three"
                    ],
                    [
                      "inspectors",
                      "father",
                      "already",
                      "questioned",
                      "gen",
                      "yeo",
                      "well",
                      "prepared"
                    ],
                    [
                      "answered",
                      "without",
                      "error",
                      "sacramento",
                      "joined",
                      "father",
                      "schoolteacher",
                      "americanized"
                    ],
                    [
                      "tai",
                      "yow",
                      "tyrus",
                      "known",
                      "tyrus",
                      "wong",
                      "ever",
                      "soon"
                    ],
                    [
                      "afterward",
                      "father",
                      "son",
                      "separated",
                      "elder",
                      "mr",
                      "wong",
                      "moved"
                    ],
                    [
                      "los",
                      "angeles",
                      "seek",
                      "work",
                      "reasons",
                      "lost",
                      "time",
                      "could"
                    ],
                    [
                      "give",
                      "son",
                      "tyrus",
                      "lived",
                      "sacramento",
                      "boardinghouse",
                      "attending",
                      "elementary"
                    ],
                    [
                      "school",
                      "two",
                      "years",
                      "later",
                      "possibly",
                      "tyrus",
                      "traveled",
                      "los"
                    ],
                    [
                      "angeles",
                      "join",
                      "father",
                      "found",
                      "work",
                      "",
                      "",
                      ""
                    ]
                  ],
                  "dx": 1,
                  "hovertemplate": "%{customdata} <br><b>Score:%{z:.3f}<extra></extra>",
                  "type": "heatmap",
                  "x0": 0,
                  "y": [
                    "mother obliged travel false identities state affairs known  ",
                    "among chinese immigrants paper son hope circumventing chines",
                    "exclusion act 1882 signed law president chester arthur      ",
                    "act drastically curtailed number chinese people allowed ente",
                    "country among earliest united states laws impose severe     ",
                    "restrictions immigration 1906 unforeseen loophole opened for",
                    "francisco earthquake fire huge number municipal documents in",
                    "birth immigration records destroyed many newly arrived chine",
                    "capitalized loss maintaining born san francisco fire united ",
                    "states citizens entitled bring relatives case gen yeo       ",
                    "father paper sons posing relatives attuned deception united ",
                    "states immigration officials put chinese arrivals formidable",
                    "ensure claimed questions came like gunfire direction village",
                    "face many windows house house rice bin wide                 ",
                    "well deep trees village lakes shops name sponsoring         ",
                    "relative interrogated separately answers match new arrival m",
                    "mistake series smaller ones could mean deportation stand    ",
                    "chance passing aspirants memorized rigorous dossiers known c",
                    "papers ensuing interrogation hard enough adults gen yeo     ",
                    "would undergo alone dec 30 1920 month sea                   ",
                    "wongs landed angel island immigration station elder mr      ",
                    "wong traveling merchant named look get son look             ",
                    "tai yow angel island considered ellis island west           ",
                    "coast lisa see author gold mountain 1995 nonfiction         ",
                    "chronicle family said interview 2016 however continued goal ",
                    "really different ellis island supposed welcoming angel islan",
                    "opened specifically keep chinese mr wongs father previously ",
                    "lived united states look get able clear immigration         ",
                    "quickly new arrival gen yeo detained island nearly          ",
                    "month child among immigrants held scared half death         ",
                    "cried mr wong recalled tyrus documentary directed pamela    ",
                    "tom premiered 2015 every day miserable miserable hated      ",
                    "place jan 27 1921 presence interpreter stenographer young   ",
                    "gen yeo posing look tai yow interrogated three              ",
                    "inspectors father already questioned gen yeo well prepared  ",
                    "answered without error sacramento joined father schoolteache",
                    "tai yow tyrus known tyrus wong ever soon                    ",
                    "afterward father son separated elder mr wong moved          ",
                    "los angeles seek work reasons lost time could               ",
                    "give son tyrus lived sacramento boardinghouse attending elem",
                    "school two years later possibly tyrus traveled los          ",
                    "angeles join father found work                              "
                  ],
                  "z": [
                    [
                      0.08523564699339595,
                      0.28352565092075976,
                      0.5926418326520468,
                      0.8003963022092849,
                      0.8648977694107913,
                      0.8740307217331291,
                      0.8697653381261734,
                      0.8478409080034621
                    ],
                    [
                      0.8082089242192769,
                      0.7640139906012526,
                      0.7382786849788218,
                      0.7600926239102032,
                      0.7822193896569618,
                      0.794274193737537,
                      0.8161080000914098,
                      0.8274715746889851
                    ],
                    [
                      0.8235193049334983,
                      0.8326981368891274,
                      0.8441377026434554,
                      0.8594788700219063,
                      0.8717036702779237,
                      0.8748077285279126,
                      0.8748123083495559,
                      0.8717406495395679
                    ],
                    [
                      0.8599985703256966,
                      0.849897866453256,
                      0.8561637849145118,
                      0.8505231735723306,
                      0.8198198684212469,
                      0.8004511550709998,
                      0.8195037923756361,
                      0.8498992861765895
                    ],
                    [
                      0.8509824164534757,
                      0.8268887286712485,
                      0.8248168517728004,
                      0.8531443593139258,
                      0.8297100190851245,
                      0.7716292638350132,
                      0.8042780945331863,
                      0.8581933165515225
                    ],
                    [
                      0.8684102352405576,
                      0.8510015857676574,
                      0.8352776685540242,
                      0.8505562493717735,
                      0.865252049983551,
                      0.8548691755279988,
                      0.8447519835220358,
                      0.8580176325474931
                    ],
                    [
                      0.8322779810518068,
                      0.777336855530426,
                      0.7957223706322634,
                      0.8319767727109333,
                      0.8436438299050295,
                      0.8464975022391744,
                      0.8563337053036272,
                      0.8562008386289266
                    ],
                    [
                      0.8445947343647455,
                      0.8359064873251195,
                      0.831546695195184,
                      0.845912254518435,
                      0.8462331760813542,
                      0.8259121651533918,
                      0.8241764990170242,
                      0.8287449452344018
                    ],
                    [
                      0.8269225821223664,
                      0.8475250679745838,
                      0.8660072412236235,
                      0.862376081304886,
                      0.8529953765174039,
                      0.8189573474631323,
                      0.766157206780582,
                      0.7908364626725461
                    ],
                    [
                      0.8052481990521825,
                      0.7671780567416148,
                      0.8003643030712755,
                      0.8401857494977704,
                      0.8341516499319103,
                      0.8391590802487294,
                      0.8635222150992025,
                      0.8176963907338759
                    ],
                    [
                      0.6661453017308814,
                      0.5954914821429106,
                      0.7000358809484621,
                      0.805520326354285,
                      0.827654628765966,
                      0.8349457478095963,
                      0.8601270208241345,
                      0.8759516871261852
                    ],
                    [
                      0.829640389642003,
                      0.7479995349018586,
                      0.7640475218004299,
                      0.8286024058290955,
                      0.8415911157669935,
                      0.8301888718452599,
                      0.8480605405597262,
                      0.8690496711689629
                    ],
                    [
                      0.8743171898755462,
                      0.8714419397047692,
                      0.8562312261540345,
                      0.8297775108020493,
                      0.8107313054084551,
                      0.8130844371881756,
                      0.827713528986757,
                      0.8240407033722486
                    ],
                    [
                      0.821585788651475,
                      0.8277389366906295,
                      0.8172168139477416,
                      0.805104401157321,
                      0.8021740689936148,
                      0.8179866479377356,
                      0.8498798205968723,
                      0.8668645612317019
                    ],
                    [
                      0.8596156316893421,
                      0.8498106471825853,
                      0.8555200680894686,
                      0.8516169578402184,
                      0.8412147575370496,
                      0.8499356237680133,
                      0.848012344931419,
                      0.8371176896273427
                    ],
                    [
                      0.8490596702092152,
                      0.854946001061174,
                      0.849763148941982,
                      0.8598362769242064,
                      0.8695777649113418,
                      0.858458469690086,
                      0.8164481088773097,
                      0.7789066959489168
                    ],
                    [
                      0.8001135276864983,
                      0.834643023631743,
                      0.8455722902128651,
                      0.854677972488892,
                      0.8491363511634247,
                      0.8374740423915095,
                      0.8521424939721649,
                      0.8666802009282204
                    ],
                    [
                      0.859590975046554,
                      0.8501606153943506,
                      0.859702497497093,
                      0.8683552877008112,
                      0.8593289551454862,
                      0.8451783472736971,
                      0.8374005379102734,
                      0.8343769865398083
                    ],
                    [
                      0.8518738794358618,
                      0.8666718365141819,
                      0.8595910494520161,
                      0.8501844647347758,
                      0.8604041757565914,
                      0.8758561596502755,
                      0.8817729651561306,
                      0.8222135077077414
                    ],
                    [
                      0.6739561753390442,
                      0.6232162518016628,
                      0.7448510394616681,
                      0.8477442962075082,
                      0.8692212947168337,
                      0.8554759800396171,
                      0.8296541611873891,
                      0.8212733250824217
                    ],
                    [
                      0.8268525739320323,
                      0.8316807855319908,
                      0.8515025097201887,
                      0.8229157289404754,
                      0.7514473455761443,
                      0.7706495982340672,
                      0.8470174858190791,
                      0.8697441123581695
                    ],
                    [
                      0.7651000040574537,
                      0.6501626635945572,
                      0.7274492745775951,
                      0.8225397113447329,
                      0.8189998609806326,
                      0.7794464656619,
                      0.7526056315258303,
                      0.7724310564384496
                    ],
                    [
                      0.8056795933712342,
                      0.7661791332074668,
                      0.6937014424507366,
                      0.7171814075196061,
                      0.7503753518546104,
                      0.8033199638898945,
                      0.8200595164530058,
                      0.7913430711785607
                    ],
                    [
                      0.820749192757324,
                      0.8577507816322746,
                      0.8514955471066004,
                      0.8377199535182795,
                      0.8521508583862034,
                      0.866680225730041,
                      0.8595807430252883,
                      0.8498001746727382
                    ],
                    [
                      0.8551141455483691,
                      0.8457532009101589,
                      0.8076031328239837,
                      0.7666411503677201,
                      0.7644293866366574,
                      0.8191548415810691,
                      0.8631305090053931,
                      0.8705386021787167
                    ],
                    [
                      0.856786608719102,
                      0.836356437578234,
                      0.8327306077802044,
                      0.8172203729232601,
                      0.7893078588434643,
                      0.8237132162698131,
                      0.864768521893581,
                      0.828374557780464
                    ],
                    [
                      0.7556177481956543,
                      0.7742058973301077,
                      0.8332084910715452,
                      0.8366228004220838,
                      0.7912187810317824,
                      0.7326297572024825,
                      0.7011588186617655,
                      0.7491311509079914
                    ],
                    [
                      0.8146725958790104,
                      0.8390053203004053,
                      0.8097688522635447,
                      0.7394818166272681,
                      0.7287657031757573,
                      0.7652629433651632,
                      0.8187218041942184,
                      0.8370685684520885
                    ],
                    [
                      0.8172437349350348,
                      0.8103165063208889,
                      0.8032748794306057,
                      0.796743742726208,
                      0.7882140111193063,
                      0.7535080041007087,
                      0.7750411831412443,
                      0.8105709910732295
                    ],
                    [
                      0.8228105650522414,
                      0.8105436474264942,
                      0.7945290236720585,
                      0.796634677669189,
                      0.8217930755934797,
                      0.8539864983141155,
                      0.8668417466875766,
                      0.8550228606530159
                    ],
                    [
                      0.8433916954038436,
                      0.8478381158172966,
                      0.8051199845306507,
                      0.7343800314345171,
                      0.6988665312742519,
                      0.6764615046449769,
                      0.7586457428962253,
                      0.8456604299345692
                    ],
                    [
                      0.8575728733339897,
                      0.8463062806141641,
                      0.8388599402239675,
                      0.8169682539353527,
                      0.7975097161339353,
                      0.801929837020425,
                      0.8137972706579902,
                      0.8311958560240634
                    ],
                    [
                      0.8563087972843573,
                      0.8714332830641185,
                      0.8748073178661612,
                      0.8750843216183235,
                      0.8750824168083652,
                      0.8747492407856202,
                      0.8710611058146684,
                      0.858968343033175
                    ],
                    [
                      0.8479187884067405,
                      0.8118568728228959,
                      0.7461884718075085,
                      0.7610057675833777,
                      0.8060317809344681,
                      0.7608398328173352,
                      0.6729755146276887,
                      0.717807548190273
                    ],
                    [
                      0.802214891534359,
                      0.8237402449033929,
                      0.811245708424425,
                      0.8261908830664111,
                      0.8598186584484475,
                      0.8284250984453958,
                      0.7540144484094005,
                      0.7767509711857878
                    ],
                    [
                      0.8395510993479594,
                      0.8549271647172569,
                      0.8461386142413923,
                      0.8399726319620092,
                      0.820776903555722,
                      0.7991869530856128,
                      0.8063441996084253,
                      0.8449489667915762
                    ],
                    [
                      0.8697816788577305,
                      0.8328308909789001,
                      0.7583436532990149,
                      0.7449089761010441,
                      0.7613437770076337,
                      0.7476680583503956,
                      0.7480440583058643,
                      0.807616489958957
                    ],
                    [
                      0.8422529301572463,
                      0.8014181356299697,
                      0.7512673193158512,
                      0.781091843018504,
                      0.8510571737764879,
                      0.8703246547623349,
                      0.7654924091158725,
                      0.653706299534872
                    ],
                    [
                      0.7352518863865414,
                      0.8027170395822625,
                      0.7670367688357916,
                      0.7800266493534409,
                      0.8141977495496325,
                      0.8392654794996712,
                      0.8027509444054541,
                      0.5876044723769658
                    ],
                    [
                      0.25803143245927945,
                      0.11227279448200309,
                      0.22972801865935066,
                      0.480794317571464,
                      0.6948620447169491,
                      0.7926928865852554,
                      0.828531794832773,
                      0.8511109510884074
                    ],
                    [
                      0.845242612101722,
                      0.8096961629886987,
                      0.7649121453931296,
                      0.7395718220332601,
                      0.7749706305792594,
                      0.8122322195153324,
                      0.8133021205170387,
                      0.8268794923200076
                    ],
                    [
                      0.8142331641179219,
                      0.7653266489910138,
                      0.7709894599139402,
                      0.7426597615712993,
                      0.5502455739667041,
                      0.2368154751949286,
                      0.04628154875072362,
                      0.003720541227159909
                    ]
                  ],
                  "zmax": 1,
                  "zmin": 0
                }
              ],
              "layout": {
                "font": {
                  "family": "Courier New"
                },
                "height": 1176,
                "template": {
                  "data": {
                    "bar": [
                      {
                        "error_x": {
                          "color": "#2a3f5f"
                        },
                        "error_y": {
                          "color": "#2a3f5f"
                        },
                        "marker": {
                          "line": {
                            "color": "#E5ECF6",
                            "width": 0.5
                          },
                          "pattern": {
                            "fillmode": "overlay",
                            "size": 10,
                            "solidity": 0.2
                          }
                        },
                        "type": "bar"
                      }
                    ],
                    "barpolar": [
                      {
                        "marker": {
                          "line": {
                            "color": "#E5ECF6",
                            "width": 0.5
                          },
                          "pattern": {
                            "fillmode": "overlay",
                            "size": 10,
                            "solidity": 0.2
                          }
                        },
                        "type": "barpolar"
                      }
                    ],
                    "carpet": [
                      {
                        "aaxis": {
                          "endlinecolor": "#2a3f5f",
                          "gridcolor": "white",
                          "linecolor": "white",
                          "minorgridcolor": "white",
                          "startlinecolor": "#2a3f5f"
                        },
                        "baxis": {
                          "endlinecolor": "#2a3f5f",
                          "gridcolor": "white",
                          "linecolor": "white",
                          "minorgridcolor": "white",
                          "startlinecolor": "#2a3f5f"
                        },
                        "type": "carpet"
                      }
                    ],
                    "choropleth": [
                      {
                        "colorbar": {
                          "outlinewidth": 0,
                          "ticks": ""
                        },
                        "type": "choropleth"
                      }
                    ],
                    "contour": [
                      {
                        "colorbar": {
                          "outlinewidth": 0,
                          "ticks": ""
                        },
                        "colorscale": [
                          [
                            0,
                            "#0d0887"
                          ],
                          [
                            0.1111111111111111,
                            "#46039f"
                          ],
                          [
                            0.2222222222222222,
                            "#7201a8"
                          ],
                          [
                            0.3333333333333333,
                            "#9c179e"
                          ],
                          [
                            0.4444444444444444,
                            "#bd3786"
                          ],
                          [
                            0.5555555555555556,
                            "#d8576b"
                          ],
                          [
                            0.6666666666666666,
                            "#ed7953"
                          ],
                          [
                            0.7777777777777778,
                            "#fb9f3a"
                          ],
                          [
                            0.8888888888888888,
                            "#fdca26"
                          ],
                          [
                            1,
                            "#f0f921"
                          ]
                        ],
                        "type": "contour"
                      }
                    ],
                    "contourcarpet": [
                      {
                        "colorbar": {
                          "outlinewidth": 0,
                          "ticks": ""
                        },
                        "type": "contourcarpet"
                      }
                    ],
                    "heatmap": [
                      {
                        "colorbar": {
                          "outlinewidth": 0,
                          "ticks": ""
                        },
                        "colorscale": [
                          [
                            0,
                            "#0d0887"
                          ],
                          [
                            0.1111111111111111,
                            "#46039f"
                          ],
                          [
                            0.2222222222222222,
                            "#7201a8"
                          ],
                          [
                            0.3333333333333333,
                            "#9c179e"
                          ],
                          [
                            0.4444444444444444,
                            "#bd3786"
                          ],
                          [
                            0.5555555555555556,
                            "#d8576b"
                          ],
                          [
                            0.6666666666666666,
                            "#ed7953"
                          ],
                          [
                            0.7777777777777778,
                            "#fb9f3a"
                          ],
                          [
                            0.8888888888888888,
                            "#fdca26"
                          ],
                          [
                            1,
                            "#f0f921"
                          ]
                        ],
                        "type": "heatmap"
                      }
                    ],
                    "heatmapgl": [
                      {
                        "colorbar": {
                          "outlinewidth": 0,
                          "ticks": ""
                        },
                        "colorscale": [
                          [
                            0,
                            "#0d0887"
                          ],
                          [
                            0.1111111111111111,
                            "#46039f"
                          ],
                          [
                            0.2222222222222222,
                            "#7201a8"
                          ],
                          [
                            0.3333333333333333,
                            "#9c179e"
                          ],
                          [
                            0.4444444444444444,
                            "#bd3786"
                          ],
                          [
                            0.5555555555555556,
                            "#d8576b"
                          ],
                          [
                            0.6666666666666666,
                            "#ed7953"
                          ],
                          [
                            0.7777777777777778,
                            "#fb9f3a"
                          ],
                          [
                            0.8888888888888888,
                            "#fdca26"
                          ],
                          [
                            1,
                            "#f0f921"
                          ]
                        ],
                        "type": "heatmapgl"
                      }
                    ],
                    "histogram": [
                      {
                        "marker": {
                          "pattern": {
                            "fillmode": "overlay",
                            "size": 10,
                            "solidity": 0.2
                          }
                        },
                        "type": "histogram"
                      }
                    ],
                    "histogram2d": [
                      {
                        "colorbar": {
                          "outlinewidth": 0,
                          "ticks": ""
                        },
                        "colorscale": [
                          [
                            0,
                            "#0d0887"
                          ],
                          [
                            0.1111111111111111,
                            "#46039f"
                          ],
                          [
                            0.2222222222222222,
                            "#7201a8"
                          ],
                          [
                            0.3333333333333333,
                            "#9c179e"
                          ],
                          [
                            0.4444444444444444,
                            "#bd3786"
                          ],
                          [
                            0.5555555555555556,
                            "#d8576b"
                          ],
                          [
                            0.6666666666666666,
                            "#ed7953"
                          ],
                          [
                            0.7777777777777778,
                            "#fb9f3a"
                          ],
                          [
                            0.8888888888888888,
                            "#fdca26"
                          ],
                          [
                            1,
                            "#f0f921"
                          ]
                        ],
                        "type": "histogram2d"
                      }
                    ],
                    "histogram2dcontour": [
                      {
                        "colorbar": {
                          "outlinewidth": 0,
                          "ticks": ""
                        },
                        "colorscale": [
                          [
                            0,
                            "#0d0887"
                          ],
                          [
                            0.1111111111111111,
                            "#46039f"
                          ],
                          [
                            0.2222222222222222,
                            "#7201a8"
                          ],
                          [
                            0.3333333333333333,
                            "#9c179e"
                          ],
                          [
                            0.4444444444444444,
                            "#bd3786"
                          ],
                          [
                            0.5555555555555556,
                            "#d8576b"
                          ],
                          [
                            0.6666666666666666,
                            "#ed7953"
                          ],
                          [
                            0.7777777777777778,
                            "#fb9f3a"
                          ],
                          [
                            0.8888888888888888,
                            "#fdca26"
                          ],
                          [
                            1,
                            "#f0f921"
                          ]
                        ],
                        "type": "histogram2dcontour"
                      }
                    ],
                    "mesh3d": [
                      {
                        "colorbar": {
                          "outlinewidth": 0,
                          "ticks": ""
                        },
                        "type": "mesh3d"
                      }
                    ],
                    "parcoords": [
                      {
                        "line": {
                          "colorbar": {
                            "outlinewidth": 0,
                            "ticks": ""
                          }
                        },
                        "type": "parcoords"
                      }
                    ],
                    "pie": [
                      {
                        "automargin": true,
                        "type": "pie"
                      }
                    ],
                    "scatter": [
                      {
                        "fillpattern": {
                          "fillmode": "overlay",
                          "size": 10,
                          "solidity": 0.2
                        },
                        "type": "scatter"
                      }
                    ],
                    "scatter3d": [
                      {
                        "line": {
                          "colorbar": {
                            "outlinewidth": 0,
                            "ticks": ""
                          }
                        },
                        "marker": {
                          "colorbar": {
                            "outlinewidth": 0,
                            "ticks": ""
                          }
                        },
                        "type": "scatter3d"
                      }
                    ],
                    "scattercarpet": [
                      {
                        "marker": {
                          "colorbar": {
                            "outlinewidth": 0,
                            "ticks": ""
                          }
                        },
                        "type": "scattercarpet"
                      }
                    ],
                    "scattergeo": [
                      {
                        "marker": {
                          "colorbar": {
                            "outlinewidth": 0,
                            "ticks": ""
                          }
                        },
                        "type": "scattergeo"
                      }
                    ],
                    "scattergl": [
                      {
                        "marker": {
                          "colorbar": {
                            "outlinewidth": 0,
                            "ticks": ""
                          }
                        },
                        "type": "scattergl"
                      }
                    ],
                    "scattermapbox": [
                      {
                        "marker": {
                          "colorbar": {
                            "outlinewidth": 0,
                            "ticks": ""
                          }
                        },
                        "type": "scattermapbox"
                      }
                    ],
                    "scatterpolar": [
                      {
                        "marker": {
                          "colorbar": {
                            "outlinewidth": 0,
                            "ticks": ""
                          }
                        },
                        "type": "scatterpolar"
                      }
                    ],
                    "scatterpolargl": [
                      {
                        "marker": {
                          "colorbar": {
                            "outlinewidth": 0,
                            "ticks": ""
                          }
                        },
                        "type": "scatterpolargl"
                      }
                    ],
                    "scatterternary": [
                      {
                        "marker": {
                          "colorbar": {
                            "outlinewidth": 0,
                            "ticks": ""
                          }
                        },
                        "type": "scatterternary"
                      }
                    ],
                    "surface": [
                      {
                        "colorbar": {
                          "outlinewidth": 0,
                          "ticks": ""
                        },
                        "colorscale": [
                          [
                            0,
                            "#0d0887"
                          ],
                          [
                            0.1111111111111111,
                            "#46039f"
                          ],
                          [
                            0.2222222222222222,
                            "#7201a8"
                          ],
                          [
                            0.3333333333333333,
                            "#9c179e"
                          ],
                          [
                            0.4444444444444444,
                            "#bd3786"
                          ],
                          [
                            0.5555555555555556,
                            "#d8576b"
                          ],
                          [
                            0.6666666666666666,
                            "#ed7953"
                          ],
                          [
                            0.7777777777777778,
                            "#fb9f3a"
                          ],
                          [
                            0.8888888888888888,
                            "#fdca26"
                          ],
                          [
                            1,
                            "#f0f921"
                          ]
                        ],
                        "type": "surface"
                      }
                    ],
                    "table": [
                      {
                        "cells": {
                          "fill": {
                            "color": "#EBF0F8"
                          },
                          "line": {
                            "color": "white"
                          }
                        },
                        "header": {
                          "fill": {
                            "color": "#C8D4E3"
                          },
                          "line": {
                            "color": "white"
                          }
                        },
                        "type": "table"
                      }
                    ]
                  },
                  "layout": {
                    "annotationdefaults": {
                      "arrowcolor": "#2a3f5f",
                      "arrowhead": 0,
                      "arrowwidth": 1
                    },
                    "autotypenumbers": "strict",
                    "coloraxis": {
                      "colorbar": {
                        "outlinewidth": 0,
                        "ticks": ""
                      }
                    },
                    "colorscale": {
                      "diverging": [
                        [
                          0,
                          "#8e0152"
                        ],
                        [
                          0.1,
                          "#c51b7d"
                        ],
                        [
                          0.2,
                          "#de77ae"
                        ],
                        [
                          0.3,
                          "#f1b6da"
                        ],
                        [
                          0.4,
                          "#fde0ef"
                        ],
                        [
                          0.5,
                          "#f7f7f7"
                        ],
                        [
                          0.6,
                          "#e6f5d0"
                        ],
                        [
                          0.7,
                          "#b8e186"
                        ],
                        [
                          0.8,
                          "#7fbc41"
                        ],
                        [
                          0.9,
                          "#4d9221"
                        ],
                        [
                          1,
                          "#276419"
                        ]
                      ],
                      "sequential": [
                        [
                          0,
                          "#0d0887"
                        ],
                        [
                          0.1111111111111111,
                          "#46039f"
                        ],
                        [
                          0.2222222222222222,
                          "#7201a8"
                        ],
                        [
                          0.3333333333333333,
                          "#9c179e"
                        ],
                        [
                          0.4444444444444444,
                          "#bd3786"
                        ],
                        [
                          0.5555555555555556,
                          "#d8576b"
                        ],
                        [
                          0.6666666666666666,
                          "#ed7953"
                        ],
                        [
                          0.7777777777777778,
                          "#fb9f3a"
                        ],
                        [
                          0.8888888888888888,
                          "#fdca26"
                        ],
                        [
                          1,
                          "#f0f921"
                        ]
                      ],
                      "sequentialminus": [
                        [
                          0,
                          "#0d0887"
                        ],
                        [
                          0.1111111111111111,
                          "#46039f"
                        ],
                        [
                          0.2222222222222222,
                          "#7201a8"
                        ],
                        [
                          0.3333333333333333,
                          "#9c179e"
                        ],
                        [
                          0.4444444444444444,
                          "#bd3786"
                        ],
                        [
                          0.5555555555555556,
                          "#d8576b"
                        ],
                        [
                          0.6666666666666666,
                          "#ed7953"
                        ],
                        [
                          0.7777777777777778,
                          "#fb9f3a"
                        ],
                        [
                          0.8888888888888888,
                          "#fdca26"
                        ],
                        [
                          1,
                          "#f0f921"
                        ]
                      ]
                    },
                    "colorway": [
                      "#636efa",
                      "#EF553B",
                      "#00cc96",
                      "#ab63fa",
                      "#FFA15A",
                      "#19d3f3",
                      "#FF6692",
                      "#B6E880",
                      "#FF97FF",
                      "#FECB52"
                    ],
                    "font": {
                      "color": "#2a3f5f"
                    },
                    "geo": {
                      "bgcolor": "white",
                      "lakecolor": "white",
                      "landcolor": "#E5ECF6",
                      "showlakes": true,
                      "showland": true,
                      "subunitcolor": "white"
                    },
                    "hoverlabel": {
                      "align": "left"
                    },
                    "hovermode": "closest",
                    "mapbox": {
                      "style": "light"
                    },
                    "paper_bgcolor": "white",
                    "plot_bgcolor": "#E5ECF6",
                    "polar": {
                      "angularaxis": {
                        "gridcolor": "white",
                        "linecolor": "white",
                        "ticks": ""
                      },
                      "bgcolor": "#E5ECF6",
                      "radialaxis": {
                        "gridcolor": "white",
                        "linecolor": "white",
                        "ticks": ""
                      }
                    },
                    "scene": {
                      "xaxis": {
                        "backgroundcolor": "#E5ECF6",
                        "gridcolor": "white",
                        "gridwidth": 2,
                        "linecolor": "white",
                        "showbackground": true,
                        "ticks": "",
                        "zerolinecolor": "white"
                      },
                      "yaxis": {
                        "backgroundcolor": "#E5ECF6",
                        "gridcolor": "white",
                        "gridwidth": 2,
                        "linecolor": "white",
                        "showbackground": true,
                        "ticks": "",
                        "zerolinecolor": "white"
                      },
                      "zaxis": {
                        "backgroundcolor": "#E5ECF6",
                        "gridcolor": "white",
                        "gridwidth": 2,
                        "linecolor": "white",
                        "showbackground": true,
                        "ticks": "",
                        "zerolinecolor": "white"
                      }
                    },
                    "shapedefaults": {
                      "line": {
                        "color": "#2a3f5f"
                      }
                    },
                    "ternary": {
                      "aaxis": {
                        "gridcolor": "white",
                        "linecolor": "white",
                        "ticks": ""
                      },
                      "baxis": {
                        "gridcolor": "white",
                        "linecolor": "white",
                        "ticks": ""
                      },
                      "bgcolor": "#E5ECF6",
                      "caxis": {
                        "gridcolor": "white",
                        "linecolor": "white",
                        "ticks": ""
                      }
                    },
                    "title": {
                      "x": 0.05
                    },
                    "xaxis": {
                      "automargin": true,
                      "gridcolor": "white",
                      "linecolor": "white",
                      "ticks": "",
                      "title": {
                        "standoff": 15
                      },
                      "zerolinecolor": "white",
                      "zerolinewidth": 2
                    },
                    "yaxis": {
                      "automargin": true,
                      "gridcolor": "white",
                      "linecolor": "white",
                      "ticks": "",
                      "title": {
                        "standoff": 15
                      },
                      "zerolinecolor": "white",
                      "zerolinewidth": 2
                    }
                  }
                },
                "width": 1000,
                "yaxis": {
                  "autorange": "reversed"
                }
              }
            }
          },
          "metadata": {},
          "output_type": "display_data"
        }
      ],
      "source": [
        "train_text = articles[article_idx]\n",
        "\n",
        "# set ngram number\n",
        "n = 4\n",
        "\n",
        "# pad the text and tokenize\n",
        "training_data = list(pad_sequence(word_tokenize(train_text), n, \n",
        "                                  pad_left=True, \n",
        "                                  left_pad_symbol=\"<s>\"))\n",
        "\n",
        "# generate ngrams\n",
        "ngrams = list(everygrams(training_data, max_len=n))\n",
        "print(\"Number of ngrams:\", len(ngrams))\n",
        "\n",
        "# build ngram language models\n",
        "model = WittenBellInterpolated(n)\n",
        "model.fit([ngrams], vocabulary_text=training_data)\n",
        "print(model.vocab)\n",
        "\n",
        "\n",
        "test_text = new_article\n",
        "\n",
        "# Tokenize and pad the text\n",
        "testing_data = list(pad_sequence(word_tokenize(test_text), n, \n",
        "                                pad_left=True,\n",
        "                                left_pad_symbol=\"<s>\"))\n",
        "print(\"Length of test data:\", len(testing_data))\n",
        "\n",
        "# assign scores\n",
        "scores = []\n",
        "for i, item in enumerate(testing_data[n-1:]):\n",
        "    s = model.score(item, testing_data[i:i+n-1])\n",
        "    scores.append(s)\n",
        "\n",
        "scores_np = np.array(scores)\n",
        "\n",
        "# set width and height\n",
        "width = 8\n",
        "height = np.ceil(len(testing_data)/width).astype(\"int32\")\n",
        "print(\"Width, Height:\", width, \",\", height)\n",
        "\n",
        "# copy scores to rectangular blank array\n",
        "a = np.zeros(width*height)\n",
        "a[:len(scores_np)] = scores_np\n",
        "diff = len(a) - len(scores_np)\n",
        "\n",
        "# apply gaussian smoothing for aesthetics\n",
        "a = gaussian_filter(a, sigma=1.0)\n",
        "\n",
        "# reshape to fit rectangle\n",
        "a = a.reshape(-1, width)\n",
        "\n",
        "# format labels\n",
        "labels = [\" \".join(testing_data[i:i+width]) for i in range(n-1, len(testing_data), width)]\n",
        "labels_individual = [x.split() for x in labels]\n",
        "labels_individual[-1] += [\"\"]*diff\n",
        "labels = [f\"{x:60.60}\" for x in labels]\n",
        "\n",
        "# create heatmap\n",
        "fig = go.Figure(data=go.Heatmap(\n",
        "                z=a, x0=0, dx=1,\n",
        "                y=labels, zmin=0, zmax=1,\n",
        "                customdata=labels_individual,\n",
        "                hovertemplate='%{customdata} <br><b>Score:%{z:.3f}<extra></extra>',\n",
        "                colorscale=\"burg\"))\n",
        "fig.update_layout({\"height\":height*28, \"width\":1000, \"font\":{\"family\":\"Courier New\"}})\n",
        "fig['layout']['yaxis']['autorange'] = \"reversed\"\n",
        "fig.show()"
      ]
    },
    {
      "cell_type": "markdown",
      "metadata": {
        "id": "n7eKVJQA5Q1C"
      },
      "source": [
        "\n",
        "\n",
        "\n",
        "## Plagiarism Checker using TF-IDF Model"
      ]
    },
    {
      "cell_type": "code",
      "execution_count": 20,
      "metadata": {
        "id": "_0NWt_54z13U"
      },
      "outputs": [],
      "source": [
        "import numpy as np\n",
        "import pandas as pd\n",
        "import pickle\n",
        "\n",
        "from sklearn.feature_extraction.text import TfidfVectorizer\n",
        "from sklearn.metrics.pairwise import linear_kernel\n",
        "from sklearn.cluster import MiniBatchKMeans\n",
        "\n",
        "\n",
        "# tfidf calculation\n",
        "text_content = df['article_preprocessed']\n",
        "vector = TfidfVectorizer(max_df=0.3,         # drop words that occur in more than X percent of documents\n",
        "                             #min_df=8,      # only use words that appear at least X times\n",
        "                             stop_words='english', # remove stop words\n",
        "                             lowercase=True, # Convert everything to lower case \n",
        "                             use_idf=True,   # Use idf\n",
        "                             norm=u'l2',     # Normalization\n",
        "                             smooth_idf=True # Prevents divide-by-zero errors\n",
        "                            )\n",
        "tfidf = vector.fit_transform(text_content)\n",
        "\n",
        "\n",
        "# Request function : search the top_n articles from a request ( request = string)\n",
        "def search(tfidf_matrix,model,request, top_n = 5):\n",
        "    request_transform = model.transform([request])\n",
        "    similarity = np.dot(request_transform,np.transpose(tfidf_matrix))\n",
        "    x = np.array(similarity.toarray()[0])\n",
        "    indices=np.argsort(x)[-5:][::-1]\n",
        "    return indices\n",
        "\n",
        "# Print the result\n",
        "def print_result(request_content,indices,X):\n",
        "    print('\\nsearch : ' + request_content)\n",
        "    print('\\nBest Results :')\n",
        "    for i in indices:\n",
        "        print('id = {0:5d} - title = {1}'.format(i,df['title'].loc[i]))"
      ]
    },
    {
      "cell_type": "code",
      "execution_count": 13,
      "metadata": {
        "colab": {
          "base_uri": "https://localhost:8080/"
        },
        "id": "kmYAzr6gpBYw",
        "outputId": "72dbaa00-b7a7-4285-f13d-26c23b59a8b1"
      },
      "outputs": [
        {
          "name": "stdout",
          "output_type": "stream",
          "text": [
            "\n",
            "search : mother obliged travel false identities state affairs known among chinese immigrants paper son hope circumventing chinese exclusion act 1882 signed law president chester arthur act drastically curtailed number chinese people allowed enter country among earliest united states laws impose severe restrictions immigration 1906 unforeseen loophole opened form san francisco earthquake fire huge number municipal documents including birth immigration records destroyed many newly arrived chinese capitalized loss maintaining born san francisco fire united states citizens entitled bring relatives case gen yeo father paper sons posing relatives attuned deception united states immigration officials put chinese arrivals formidable inquisition ensure claimed questions came like gunfire direction village face many windows house house rice bin wide well deep trees village lakes shops name sponsoring relative interrogated separately answers match new arrival major mistake series smaller ones could mean deportation stand chance passing aspirants memorized rigorous dossiers known coaching papers ensuing interrogation hard enough adults gen yeo would undergo alone dec 30 1920 month sea wongs landed angel island immigration station elder mr wong traveling merchant named look get son look tai yow angel island considered ellis island west coast lisa see author gold mountain 1995 nonfiction chronicle family said interview 2016 however continued goal really different ellis island supposed welcoming angel island opened specifically keep chinese mr wongs father previously lived united states look get able clear immigration quickly new arrival gen yeo detained island nearly month child among immigrants held scared half death cried mr wong recalled tyrus documentary directed pamela tom premiered 2015 every day miserable miserable hated place jan 27 1921 presence interpreter stenographer young gen yeo posing look tai yow interrogated three inspectors father already questioned gen yeo well prepared answered without error sacramento joined father schoolteacher americanized tai yow tyrus known tyrus wong ever soon afterward father son separated elder mr wong moved los angeles seek work reasons lost time could give son tyrus lived sacramento boardinghouse attending elementary school two years later possibly tyrus traveled los angeles join father found work\n",
            "\n",
            "Best Results :\n",
            "id =     2 - title = Tyrus Wong, ‘Bambi’ Artist Thwarted by Racial Bias, Dies at 106 - The New York Times\n",
            "id =   576 - title = Trump Orders Mexican Border Wall to Be Built and Plans to Block Syrian Refugees - The New York Times\n",
            "id =   214 - title = California Today: $8 Million in Tech Money for the Bay Area Arts - The New York Times\n",
            "id =   117 - title = California Today: Cracking Down on Distracted Driving - The New York Times\n",
            "id =   395 - title = In Era of Trump, China’s President Champions Economic Globalization - The New York Times\n"
          ]
        }
      ],
      "source": [
        "result = search(tfidf,vector, new_article, top_n = 5)\n",
        "print_result(new_article,result,df)"
      ]
    },
    {
      "cell_type": "code",
      "execution_count": null,
      "metadata": {
        "id": "7bnObzjERth2"
      },
      "outputs": [],
      "source": []
    }
  ],
  "metadata": {
    "colab": {
      "collapsed_sections": [],
      "provenance": []
    },
    "kernelspec": {
      "display_name": "Python 3",
      "name": "python3"
    },
    "language_info": {
      "codemirror_mode": {
        "name": "ipython",
        "version": 3
      },
      "file_extension": ".py",
      "mimetype": "text/x-python",
      "name": "python",
      "nbconvert_exporter": "python",
      "pygments_lexer": "ipython3",
      "version": "3.9.6"
    }
  },
  "nbformat": 4,
  "nbformat_minor": 0
}
